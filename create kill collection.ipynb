{
 "cells": [
  {
   "cell_type": "code",
   "execution_count": null,
   "metadata": {
    "scrolled": true
   },
   "outputs": [],
   "source": [
    "pip install moviepy"
   ]
  },
  {
   "cell_type": "code",
   "execution_count": null,
   "metadata": {},
   "outputs": [],
   "source": [
    "pip install opencv-python"
   ]
  },
  {
   "cell_type": "code",
   "execution_count": null,
   "metadata": {},
   "outputs": [],
   "source": [
    "pip install moviepy --upgrade"
   ]
  },
  {
   "cell_type": "code",
   "execution_count": null,
   "metadata": {},
   "outputs": [],
   "source": [
    "import cv2\n",
    "import glob\n",
    "from moviepy.editor import *"
   ]
  },
  {
   "cell_type": "code",
   "execution_count": null,
   "metadata": {},
   "outputs": [],
   "source": [
    "import tkinter as tk\n",
    "import tkinter.filedialog\n",
    "root = tk.Tk()\n",
    "dir = 'C:'\n",
    "file_path_in = tkinter.filedialog.askdirectory(initialdir = dir,title='参照するフォルダ')\n",
    "file_path_out = tkinter.filedialog.askdirectory(initialdir = dir,title='保存するフォルダ')\n",
    "root.withdraw()\n",
    "print(\"参照するフォルダ:\"+file_path_in)\n",
    "print(\"保存するフォルダ:\"+file_path_out)"
   ]
  },
  {
   "cell_type": "code",
   "execution_count": null,
   "metadata": {},
   "outputs": [],
   "source": [
    "# opencvのmachiTemplateで画像比較\n",
    "def match(img , temp):\n",
    "#比較方法はcv2.TM_CCOEFF_NORMEDを選択\n",
    " result = cv2.matchTemplate(img, temp, cv2.TM_CCOEFF_NORMED)\n",
    "#結果のmax_valが欲しい　0-1 1に近いほど似てる\n",
    " min_val, max_val, min_loc, max_loc = cv2.minMaxLoc(result)\n",
    " return (max_val)"
   ]
  },
  {
   "cell_type": "code",
   "execution_count": null,
   "metadata": {},
   "outputs": [],
   "source": [
    "#動画切り出し\n",
    "def triming(video, stime, etime):\n",
    "    time_start = stime - 3\n",
    "    if time_start < 0:\n",
    "        time_start = 0\n",
    "    time_end = etime - 2\n",
    "    print(time_start,time_end)\n",
    "    video = video.subclip(time_start, time_end)\n",
    "    return video"
   ]
  },
  {
   "cell_type": "code",
   "execution_count": null,
   "metadata": {},
   "outputs": [],
   "source": [
    "def movie_editor(file_path, k):\n",
    "    video = cv2.VideoCapture(file_path)\n",
    "    templateStart = cv2.imread(\"template.png\", 0)\n",
    "    frame_count = int(video.get(7)) #フレーム数を取得\n",
    "    frame_rate = int(video.get(5)) #フレームレート(1フレームの時間単位はミリ秒)の取得 splatoon2は60\n",
    "    killTime = 0 # 前回のチェックとの比較時間用。近いフレームは無視するようにする\n",
    "    kill = [] # 取得タイミングをリストに入れる。秒単位\n",
    "    stime = 0\n",
    "    n=1 #n秒ごと\n",
    "\n",
    "    for i in range(int((frame_count / frame_rate)/n)): #動画の秒数を取得し、回す\n",
    "        video.set(1 ,frame_rate * n * i);\n",
    "        _, frame = video.read() #動画をフレームに読み込み\n",
    "        framegray = cv2.cvtColor(frame, cv2.COLOR_BGR2GRAY) #比較用にグレー画像を作る\n",
    "        checkVal = match(framegray,templateStart); #関数呼び出し\n",
    "        if checkVal > 0.8: #キルログが出ている時間を取得\n",
    "            killTime = i * n\n",
    "            kill.append(killTime)\n",
    "    print(kill)\n",
    "    for time in kill:\n",
    "        if stime == 0: #最初のキルログ\n",
    "            stime = time\n",
    "            etime = time\n",
    "        elif (time-etime)>3:#キルログの間が3秒以上空いたとき\n",
    "            if stime-2 < 0:\n",
    "                stime = 2\n",
    "            editor_video = VideoFileClip(file_path).subclip(stime-2,etime)\n",
    "            save_path = file_path_out+\"/kill_\"+str(k)+\".mp4\"\n",
    "            editor_video.write_videofile(save_path, fps=30)\n",
    "            k += 1\n",
    "            stime = 0\n",
    "            etime = 0\n",
    "        else: #キルログが出ている間\n",
    "            etime = time\n",
    "    if stime != 0:\n",
    "        if stime - 2 < 0:\n",
    "            stime = 2\n",
    "        editor_video = VideoFileClip(file_path).subclip(stime-2,etime)\n",
    "        save_path = file_path_out+\"/kill_\"+str(k)+\".mp4\"\n",
    "        editor_video.write_videofile(save_path, fps=30)\n",
    "        ktime = 0\n",
    "        k += 1\n",
    "    return k"
   ]
  },
  {
   "cell_type": "code",
   "execution_count": null,
   "metadata": {},
   "outputs": [],
   "source": [
    "filepath_list = glob.glob(file_path_in+'/*.mp4')\n",
    "k=1\n",
    "for clip_path in filepath_list:\n",
    "    k = movie_editor(clip_path, k)"
   ]
  },
  {
   "cell_type": "code",
   "execution_count": null,
   "metadata": {},
   "outputs": [],
   "source": []
  }
 ],
 "metadata": {
  "kernelspec": {
   "display_name": "Python 3",
   "language": "python",
   "name": "python3"
  },
  "language_info": {
   "codemirror_mode": {
    "name": "ipython",
    "version": 3
   },
   "file_extension": ".py",
   "mimetype": "text/x-python",
   "name": "python",
   "nbconvert_exporter": "python",
   "pygments_lexer": "ipython3",
   "version": "3.8.8"
  }
 },
 "nbformat": 4,
 "nbformat_minor": 2
}
